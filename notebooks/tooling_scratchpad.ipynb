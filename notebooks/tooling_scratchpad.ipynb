{
 "cells": [
  {
   "cell_type": "code",
   "execution_count": 1,
   "metadata": {},
   "outputs": [
    {
     "name": "stderr",
     "output_type": "stream",
     "text": [
      "/opt/conda/envs/funes-pixi/lib/python3.10/site-packages/tqdm/auto.py:21: TqdmWarning: IProgress not found. Please update jupyter and ipywidgets. See https://ipywidgets.readthedocs.io/en/stable/user_install.html\n",
      "  from .autonotebook import tqdm as notebook_tqdm\n",
      "2024-09-05 00:33:24,794\tINFO util.py:154 -- Missing packages: ['ipywidgets']. Run `pip install -U ipywidgets`, then restart the notebook server for rich notebook output.\n",
      "2024-09-05 00:33:25,231\tINFO util.py:154 -- Missing packages: ['ipywidgets']. Run `pip install -U ipywidgets`, then restart the notebook server for rich notebook output.\n",
      "2024-09-05 00:33:26 fperez-gcloud-stupid-sailor-twift root[410454] INFO Logger root configured\n"
     ]
    },
    {
     "name": "stdout",
     "output_type": "stream",
     "text": [
      "Trying to configure logger root in module llm_foundation\n",
      "root # of associated handlers - 0\n",
      "Logging is not configured yet. Configuring it now.\n",
      "Basic logging config\n"
     ]
    }
   ],
   "source": [
    "import os\n",
    "import requests\n",
    "from duckduckgo_search import DDGS\n",
    "\n",
    "import os\n",
    "import sys\n",
    "sys.path.append(os.path.abspath(\"../\"))\n",
    "from autogen import initiate_chats, GroupChat, GroupChatManager\n",
    "from funes.agents.agent_types import Role, Persona, AutogenAgentType\n",
    "from autogen.agentchat.contrib.multimodal_conversable_agent import MultimodalConversableAgent\n",
    "from llm_foundation import logger\n",
    "\n",
    "from dotenv import find_dotenv, load_dotenv\n",
    "\n",
    "from IPython.display import Image\n",
    "from pathlib import Path\n",
    "\n",
    "openai_api_key = os.environ[\"OPENAI_API_KEY\"]\n",
    "\n",
    "config_list = [{\n",
    "    \"organization\": \"org-Q3NBjIa66lyyJiZUKXYOXzBf\",\n",
    "    \"model\": \"gpt-4o-mini\",  # model name\n",
    "    \"api_key\": openai_api_key  # api key\n",
    "}]\n",
    "llm_config = {\n",
    "    \"seed\": 14,  # seed for caching and reproducibility\n",
    "    \"config_list\": config_list,  # a list of OpenAI API configurations\n",
    "    \"temperature\": 0.0,  # temperature for sampling\n",
    "}\n"
   ]
  },
  {
   "cell_type": "code",
   "execution_count": 3,
   "metadata": {},
   "outputs": [
    {
     "name": "stdout",
     "output_type": "stream",
     "text": [
      "/home/jupyter/dev/funes/notebooks/images/l1_and_l2_regularization_1.jpg\n",
      "Persona: Francisco\n",
      "  Role: learner\n",
      "  Description: A highly motivated human that is eager to learn.\n",
      "  Agent System Message: \n",
      "  Autogen Code Execution Config: {}\n",
      "\n",
      "[autogen.oai.client: 09-05 00:34:52] {164} WARNING - The API key specified is not a valid OpenAI format; it won't work with the OpenAI-hosted model.\n"
     ]
    },
    {
     "name": "stderr",
     "output_type": "stream",
     "text": [
      "2024-09-05 00:34:52 fperez-gcloud-stupid-sailor-twift autogen.oai.client[410454] WARNING The API key specified is not a valid OpenAI format; it won't work with the OpenAI-hosted model.\n"
     ]
    },
    {
     "name": "stdout",
     "output_type": "stream",
     "text": [
      "[autogen.oai.client: 09-05 00:34:53] {164} WARNING - The API key specified is not a valid OpenAI format; it won't work with the OpenAI-hosted model.\n"
     ]
    },
    {
     "name": "stderr",
     "output_type": "stream",
     "text": [
      "2024-09-05 00:34:53 fperez-gcloud-stupid-sailor-twift autogen.oai.client[410454] WARNING The API key specified is not a valid OpenAI format; it won't work with the OpenAI-hosted model.\n"
     ]
    },
    {
     "name": "stdout",
     "output_type": "stream",
     "text": [
      "What's in this image? <img /home/jupyter/dev/funes/notebooks/images/l1_and_l2_regularization_1.jpg>.\n",
      "\u001b[33mFrancisco_learner\u001b[0m (to image-explainer):\n",
      "\n",
      "What's in this image? <image>.\n",
      "\n",
      "--------------------------------------------------------------------------------\n"
     ]
    },
    {
     "name": "stdout",
     "output_type": "stream",
     "text": [
      "\u001b[31m\n",
      ">>>>>>>> NO HUMAN INPUT RECEIVED.\u001b[0m\n",
      "\u001b[33mimage-explainer\u001b[0m (to Francisco_learner):\n",
      "\n",
      "\n",
      "\n",
      "--------------------------------------------------------------------------------\n"
     ]
    },
    {
     "name": "stderr",
     "output_type": "stream",
     "text": [
      "2024-09-05 00:35:11 fperez-gcloud-stupid-sailor-twift httpx[410454] INFO HTTP Request: POST https://api.openai.com/v1/chat/completions \"HTTP/1.1 200 OK\"\n"
     ]
    },
    {
     "name": "stdout",
     "output_type": "stream",
     "text": [
      "\u001b[33mFrancisco_learner\u001b[0m (to image-explainer):\n",
      "\n",
      "I'm unable to view images directly. However, I can help explain concepts related to images or answer questions about them. If you describe the image or provide details about its content, I can assist you further!\n",
      "\n",
      "--------------------------------------------------------------------------------\n"
     ]
    },
    {
     "data": {
      "text/plain": [
       "ChatResult(chat_id=None, chat_history=[{'content': \"What's in this image? <img /home/jupyter/dev/funes/notebooks/images/l1_and_l2_regularization_1.jpg>.\", 'role': 'assistant', 'name': 'Francisco_learner'}, {'content': '', 'role': 'user', 'name': 'image-explainer'}, {'content': \"I'm unable to view images directly. However, I can help explain concepts related to images or answer questions about them. If you describe the image or provide details about its content, I can assist you further!\", 'role': 'assistant', 'name': 'Francisco_learner'}], summary=\"I'm unable to view images directly. However, I can help explain concepts related to images or answer questions about them. If you describe the image or provide details about its content, I can assist you further!\", cost={'usage_including_cached_inference': {'total_cost': 3.255e-05, 'gpt-4o-mini-2024-07-18': {'cost': 3.255e-05, 'prompt_tokens': 53, 'completion_tokens': 41, 'total_tokens': 94}}, 'usage_excluding_cached_inference': {'total_cost': 3.255e-05, 'gpt-4o-mini-2024-07-18': {'cost': 3.255e-05, 'prompt_tokens': 53, 'completion_tokens': 41, 'total_tokens': 94}}}, human_input=[])"
      ]
     },
     "execution_count": 3,
     "metadata": {},
     "output_type": "execute_result"
    }
   ],
   "source": [
    "path = Path(\"./images/l1_and_l2_regularization_1.jpg\").resolve()\n",
    "\n",
    "print(path)\n",
    "\n",
    "francisco = Persona.from_json_file(\"Persona/Francisco.json\")\n",
    "print(francisco)\n",
    "user_proxy = francisco.role_to_autogen_agent(\"learner\", AutogenAgentType.UserProxyAgent, llm_config=llm_config)\n",
    "\n",
    "\n",
    "image_agent = MultimodalConversableAgent(\n",
    "    name=\"image-explainer\",\n",
    "    max_consecutive_auto_reply=1,\n",
    "    llm_config=llm_config,\n",
    ")\n",
    "\n",
    "\n",
    "prompt = f\"\"\"What's in this image? <img {path}>.\"\"\"\n",
    "\n",
    "print(prompt)\n",
    "\n",
    "user_proxy.initiate_chat(\n",
    "    image_agent,\n",
    "    message=prompt,\n",
    ")"
   ]
  },
  {
   "cell_type": "code",
   "execution_count": null,
   "metadata": {},
   "outputs": [],
   "source": [
    "!ls"
   ]
  },
  {
   "cell_type": "code",
   "execution_count": null,
   "metadata": {},
   "outputs": [],
   "source": [
    "print(path)\n",
    "Image(url=path)\n"
   ]
  },
  {
   "cell_type": "code",
   "execution_count": 3,
   "metadata": {
    "notebookRunGroups": {
     "groupValue": "2"
    }
   },
   "outputs": [
    {
     "name": "stderr",
     "output_type": "stream",
     "text": [
      "2024-09-04 23:02:11 fperez-gcloud-stupid-sailor-twift primp[387272] INFO response: https://duckduckgo.com/ 200 17691\n",
      "2024-09-04 23:02:12 fperez-gcloud-stupid-sailor-twift primp[387272] INFO response: https://duckduckgo.com/i.js?l=us-en&o=json&q=l1_and_l2_regularization&vqd=4-337511455219806391055278608865310442614&f=%2C%2Ccolor%3Acolor%2C%2Clayout%3AWide%2C&p=-1&s=0 200 54912\n"
     ]
    },
    {
     "name": "stdout",
     "output_type": "stream",
     "text": [
      "Downloading image 1 from https://i.ytimg.com/vi/QNxNCgtWSaY/maxresdefault.jpg\n",
      "Image saved at images/l1_and_l2_regularization_1.jpg\n",
      "Downloading image 2 from https://miro.medium.com/v2/resize:fit:800/1*ZeINTX82W7vwqLMHHWEaTQ.jpeg\n",
      "Image saved at images/l1_and_l2_regularization_2.jpg\n",
      "Downloading image 3 from https://i.ytimg.com/vi/HHg1i_NsjnA/maxresdefault.jpg\n",
      "Image saved at images/l1_and_l2_regularization_3.jpg\n",
      "Downloading image 4 from https://miro.medium.com/max/4500/1*uYTwM-N7SP199zFPAfFoNw.png\n",
      "Image saved at images/l1_and_l2_regularization_4.jpg\n",
      "Downloading image 5 from https://miro.medium.com/max/1063/1*yjpeT1JAX6e8AvyLjxrXOQ.jpeg\n",
      "Image saved at images/l1_and_l2_regularization_5.jpg\n"
     ]
    }
   ],
   "source": [
    "# Function to download images\n",
    "def download_images(search_query, num_images=5, provider=\"DDG\", directory=\"images\"):\n",
    "    search_query = search_query.replace(\" \", \"_\")\n",
    "    \n",
    "    # Search for images using DuckDuckGo\n",
    "    results = DDGS().images(\n",
    "        keywords=search_query,\n",
    "        region=\"us-en\",\n",
    "        safesearch=\"off\",\n",
    "        size=None,\n",
    "        color=\"color\",\n",
    "        type_image=None,\n",
    "        layout=\"Wide\",\n",
    "        license_image=None,\n",
    "        max_results=num_images,\n",
    "    )\n",
    "\n",
    "    # Create a directory to save downloaded images\n",
    "    if not os.path.exists(directory):\n",
    "        os.makedirs(directory)\n",
    "\n",
    "    # Loop through results and download each image\n",
    "    for i, result in enumerate(results):\n",
    "        image_url = result['image']\n",
    "        \n",
    "        print(f\"Downloading image {i+1} from {image_url}\")\n",
    "        try:\n",
    "            response = requests.get(image_url)\n",
    "            if response.status_code == 200:\n",
    "                image_path = f\"{directory}/{search_query}_{i+1}.jpg\"\n",
    "                with open(image_path, 'wb') as file:\n",
    "                    file.write(response.content)\n",
    "                print(f\"Image saved at {image_path}\")\n",
    "            else:\n",
    "                print(f\"Failed to download image {i+1}. Status code: {response.status_code}\")\n",
    "        except Exception as e:\n",
    "            print(f\"An error occurred while downloading image {i+1}: {e}\")\n",
    "\n",
    "# Example: Search for and download images of \"puppies\"\n",
    "download_images(\"l1 and l2 regularization\", num_images=5)\n"
   ]
  },
  {
   "cell_type": "code",
   "execution_count": null,
   "metadata": {},
   "outputs": [],
   "source": []
  }
 ],
 "metadata": {
  "kernelspec": {
   "display_name": "funes-pixi",
   "language": "python",
   "name": "python3"
  },
  "language_info": {
   "codemirror_mode": {
    "name": "ipython",
    "version": 3
   },
   "file_extension": ".py",
   "mimetype": "text/x-python",
   "name": "python",
   "nbconvert_exporter": "python",
   "pygments_lexer": "ipython3",
   "version": "3.10.14"
  }
 },
 "nbformat": 4,
 "nbformat_minor": 2
}
