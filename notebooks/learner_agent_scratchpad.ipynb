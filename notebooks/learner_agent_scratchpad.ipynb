{
 "cells": [
  {
   "cell_type": "code",
   "execution_count": 1,
   "metadata": {},
   "outputs": [
    {
     "name": "stderr",
     "output_type": "stream",
     "text": [
      "/opt/conda/envs/funes-pixi/lib/python3.10/site-packages/tqdm/auto.py:21: TqdmWarning: IProgress not found. Please update jupyter and ipywidgets. See https://ipywidgets.readthedocs.io/en/stable/user_install.html\n",
      "  from .autonotebook import tqdm as notebook_tqdm\n",
      "2024-08-31 00:06:05,427\tINFO util.py:154 -- Missing packages: ['ipywidgets']. Run `pip install -U ipywidgets`, then restart the notebook server for rich notebook output.\n",
      "2024-08-31 00:06:05,873\tINFO util.py:154 -- Missing packages: ['ipywidgets']. Run `pip install -U ipywidgets`, then restart the notebook server for rich notebook output.\n",
      "2024-08-31 00:06:06 fperez-gcloud-stupid-sailor-twift root[2765500] INFO Logger root configured\n"
     ]
    },
    {
     "name": "stdout",
     "output_type": "stream",
     "text": [
      "Trying to configure logger root in module llm_foundation\n",
      "root # of associated handlers - 0\n",
      "Logging is not configured yet. Configuring it now.\n",
      "Basic logging config\n"
     ]
    }
   ],
   "source": [
    "import os\n",
    "import sys\n",
    "sys.path.append(os.path.abspath(\"../\"))\n",
    "from funes.agents.agent_types import Role, Persona, AutogenAgentType\n",
    "\n",
    "from llm_foundation import logger\n",
    "\n",
    "from dotenv import find_dotenv, load_dotenv\n",
    "\n",
    "openai_api_key = os.environ[\"OPENAI_API_KEY\"]\n",
    "\n",
    "config_list = [{\n",
    "    \"model\": \"gpt-3.5-turbo\",  # model name\n",
    "    \"api_key\": openai_api_key  # api key\n",
    "}]\n",
    "llm_config = {\n",
    "    \"seed\": 14,  # seed for caching and reproducibility\n",
    "    \"config_list\": config_list,  # a list of OpenAI API configurations\n",
    "    \"temperature\": 0.0,  # temperature for sampling\n",
    "}"
   ]
  },
  {
   "cell_type": "code",
   "execution_count": 2,
   "metadata": {},
   "outputs": [
    {
     "name": "stdout",
     "output_type": "stream",
     "text": [
      "/home/jupyter/dev/funes/notebooks\n"
     ]
    }
   ],
   "source": [
    "!pwd"
   ]
  },
  {
   "cell_type": "code",
   "execution_count": 3,
   "metadata": {},
   "outputs": [
    {
     "name": "stdout",
     "output_type": "stream",
     "text": [
      "Persona: Francisco\n",
      "  Role: learner\n",
      "  Description: A highly motivated human that is eager to learn.\n",
      "  Agent System Message: \n",
      "  Autogen Code Execution Config: {}\n",
      "\n"
     ]
    }
   ],
   "source": [
    "francisco = Persona.from_json_file(\"Persona/Francisco.json\")\n",
    "print(francisco)"
   ]
  },
  {
   "cell_type": "code",
   "execution_count": 4,
   "metadata": {},
   "outputs": [
    {
     "name": "stderr",
     "output_type": "stream",
     "text": [
      "2024-08-31 00:06:07 fperez-gcloud-stupid-sailor-twift root[2765500] INFO JSON object written: Persona/Francisco.json\n"
     ]
    },
    {
     "data": {
      "text/plain": [
       "['learner']"
      ]
     },
     "execution_count": 4,
     "metadata": {},
     "output_type": "execute_result"
    }
   ],
   "source": [
    "francisco.roles\n",
    "\n",
    "francisco.save_as_json()\n",
    "\n",
    "francisco.get_roles()"
   ]
  },
  {
   "cell_type": "code",
   "execution_count": 5,
   "metadata": {},
   "outputs": [],
   "source": [
    "francisco_learner = francisco.role_to_autogen_agent(\"learner\", AutogenAgentType.UserProxyAgent, \"ALWAYS\", llm_config=llm_config)\n",
    "\n",
    "\n",
    "# francisco_learner.generate_reply(\n",
    "#     messages=[{\"content\": \"Tell me a joke.\", \"role\": \"user\"}]\n",
    "# )\n"
   ]
  },
  {
   "cell_type": "code",
   "execution_count": 6,
   "metadata": {},
   "outputs": [
    {
     "name": "stdout",
     "output_type": "stream",
     "text": [
      "Persona: La_Parras\n",
      "  Role: generic_teacher\n",
      "  Description: A highly motivated teacher that is eager to offer her knowledge.\n",
      "  Agent System Message: You are a highly motivated teacher. You write engaging and structured text answers using markdown format to questions you receive on given topics. You must polish your writing based on the feedback you receive and give a refined version. Only return your final work adding markdown format for clarity but without addint additional comments to the content.\n",
      "  Autogen Code Execution Config: {}\n",
      "\n"
     ]
    }
   ],
   "source": [
    "maestro = Persona.from_json_file(\"Persona/Maestro.json\")\n",
    "\n",
    "print(maestro)\n",
    "\n",
    "maestro_teacher = maestro.role_to_autogen_agent(\"generic_teacher\", AutogenAgentType.AssistantAgent, llm_config=llm_config) "
   ]
  },
  {
   "cell_type": "code",
   "execution_count": 7,
   "metadata": {},
   "outputs": [
    {
     "name": "stdout",
     "output_type": "stream",
     "text": [
      "Persona: Carlos_Boyero\n",
      "  Role: science_critic\n",
      "  Description: You are reputable critic of scientific papers and technology.\n",
      "  Agent System Message: You are a scientific papers and technology critic. You review the work of a writer and provide constructive feedback to help improve the quality of the content.\n",
      "  Autogen Code Execution Config: {}\n",
      "  Role: style_editor\n",
      "  Description: You are reputable critic and editor specialized in text style.\n",
      "  Agent System Message: As an expert critic and editor, you review and constructively give guidelines to make the text you receive more readable and understandable. Suggest to add markdown format rules to the content parts when necessary for clarity. Begin the review by stating your role.\n",
      "  Autogen Code Execution Config: {}\n",
      "  Role: ethics_reviewer\n",
      "  Description: You are a philosopher specialized in ethics.\n",
      "  Agent System Message: You are an ethics reviewer, known for your ability to ensure that content is ethically sound and free from any potential ethical issues. Make sure your suggestion is concise (within 3 bullet points), concrete and to the point. Begin the review by stating your role.\n",
      "  Autogen Code Execution Config: {}\n",
      "  Role: meta_reviewer\n",
      "  Description: You are a meta-reviewer.\n",
      "  Agent System Message: You are a meta reviewer, you aggragate and review the work of other reviewers and give a final suggestion on the content. Preserve the markdown format.\n",
      "  Autogen Code Execution Config: {}\n",
      "\n",
      "\n"
     ]
    }
   ],
   "source": [
    "def reflection_message(recipient, messages, sender, config):\n",
    "    return f'''Review the following content. \n",
    "            \\n\\n {recipient.chat_messages_for_summary(sender)[-1]['content']}'''\n",
    "\n",
    "critics = Persona.from_json_file(\"Persona/Critic.json\")\n",
    "\n",
    "print(critics)\n",
    "\n",
    "science_critic = critics.role_to_autogen_agent(\"science_critic\", AutogenAgentType.AssistantAgent, llm_config=llm_config)\n",
    "style_editor = critics.role_to_autogen_agent(\"style_editor\", AutogenAgentType.AssistantAgent, llm_config=llm_config)\n",
    "ethics_reviewer = critics.role_to_autogen_agent(\"ethics_reviewer\", AutogenAgentType.AssistantAgent, llm_config=llm_config)\n",
    "meta_reviewer = critics.role_to_autogen_agent(\"meta_reviewer\", AutogenAgentType.AssistantAgent, llm_config=llm_config)\n",
    "\n",
    "print()\n",
    "\n",
    "review_chats = [\n",
    "    {\n",
    "        \"recipient\": ethics_reviewer, \n",
    "        \"message\": reflection_message, \n",
    "        \"summary_method\": \"reflection_with_llm\",\n",
    "        \"summary_args\": {\"summary_prompt\" : \n",
    "        \"Return review into as JSON object only:\"\n",
    "        \"{'Reviewer': '', 'Review': ''}. Here Reviewer should be your role\",},\n",
    "        \"max_turns\": 1},\n",
    "    {\n",
    "        \"recipient\": style_editor, \n",
    "        \"message\": reflection_message, \n",
    "        \"summary_method\": \"reflection_with_llm\",\n",
    "        \"summary_args\": {\"summary_prompt\" : \n",
    "        \"Return review into as JSON object only:\"\n",
    "        \"{'Reviewer': '', 'Review': ''}. Here Reviewer should be your role\",},\n",
    "        \"max_turns\": 1},    \n",
    "    {\n",
    "        \"recipient\": meta_reviewer, \n",
    "        \"message\": \"Aggregrate feedback from all reviewers and give final suggestions on the writing.\",\n",
    "        \"max_turns\": 1},\n",
    "]\n"
   ]
  },
  {
   "cell_type": "code",
   "execution_count": 8,
   "metadata": {},
   "outputs": [
    {
     "data": {
      "text/plain": [
       "autogen.agentchat.assistant_agent.AssistantAgent"
      ]
     },
     "execution_count": 8,
     "metadata": {},
     "output_type": "execute_result"
    }
   ],
   "source": [
    "type(science_critic)"
   ]
  },
  {
   "cell_type": "code",
   "execution_count": 9,
   "metadata": {},
   "outputs": [],
   "source": [
    "science_critic.register_nested_chats(\n",
    "    review_chats,\n",
    "    trigger=maestro_teacher,\n",
    ")"
   ]
  },
  {
   "cell_type": "markdown",
   "metadata": {},
   "source": []
  },
  {
   "cell_type": "code",
   "execution_count": 10,
   "metadata": {},
   "outputs": [],
   "source": [
    "from autogen import initiate_chats\n",
    "\n",
    "task = \"What is cross-validation and why is it used in machine learning?\"\n",
    "\n",
    "# chats = [\n",
    "#     {\n",
    "#         \"sender\": francisco_learner,\n",
    "#         \"recipient\": maestro_teacher,\n",
    "#         \"message\": task,\n",
    "#         \"max_turns\": 1,\n",
    "#         \"summary_method\": \"last_msg\",\n",
    "#     }\n",
    "    \n",
    "# ]\n",
    "# chat_results = initiate_chats(chats)"
   ]
  },
  {
   "cell_type": "code",
   "execution_count": 11,
   "metadata": {},
   "outputs": [
    {
     "data": {
      "text/plain": [
       "autogen.agentchat.assistant_agent.AssistantAgent"
      ]
     },
     "execution_count": 11,
     "metadata": {},
     "output_type": "execute_result"
    }
   ],
   "source": [
    "type(science_critic)"
   ]
  },
  {
   "cell_type": "code",
   "execution_count": 12,
   "metadata": {},
   "outputs": [
    {
     "name": "stdout",
     "output_type": "stream",
     "text": [
      "\u001b[33mCarlos_Boyero_science_critic\u001b[0m (to La_Parras_generic_teacher):\n",
      "\n",
      "What is cross-validation and why is it used in machine learning?\n",
      "\n",
      "--------------------------------------------------------------------------------\n",
      "\u001b[33mLa_Parras_generic_teacher\u001b[0m (to Carlos_Boyero_science_critic):\n",
      "\n",
      "Cross-validation is a technique used in machine learning to assess how well a predictive model will generalize to an independent data set. It involves partitioning the dataset into subsets, training the model on a portion of the data, and then testing it on the remaining data. This process is repeated multiple times with different partitions, and the performance metrics are averaged to provide a more accurate estimate of the model's performance. Cross-validation helps to detect overfitting and provides a more reliable evaluation of the model's ability to generalize to new, unseen data.\n",
      "\n",
      "--------------------------------------------------------------------------------\n",
      "\u001b[34m\n",
      "********************************************************************************\u001b[0m\n",
      "\u001b[34mStarting a new chat....\u001b[0m\n",
      "\u001b[34m\n",
      "********************************************************************************\u001b[0m\n",
      "\u001b[33mCarlos_Boyero_science_critic\u001b[0m (to Carlos_Boyero_ethics_reviewer):\n",
      "\n",
      "Review the following content. \n",
      "            \n",
      "\n",
      " Cross-validation is a technique used in machine learning to assess how well a predictive model will generalize to an independent data set. It involves partitioning the dataset into subsets, training the model on a portion of the data, and then testing it on the remaining data. This process is repeated multiple times with different partitions, and the performance metrics are averaged to provide a more accurate estimate of the model's performance. Cross-validation helps to detect overfitting and provides a more reliable evaluation of the model's ability to generalize to new, unseen data.\n",
      "\n",
      "--------------------------------------------------------------------------------\n",
      "\u001b[33mCarlos_Boyero_ethics_reviewer\u001b[0m (to Carlos_Boyero_science_critic):\n",
      "\n",
      "As an ethics reviewer, I would suggest the following regarding the content provided:\n",
      "\n",
      "- Ensure that any data used for cross-validation is obtained and used in compliance with data protection regulations and guidelines to protect individuals' privacy.\n",
      "- Clearly state the sources of the data used for cross-validation to ensure transparency and give proper credit to the original providers.\n",
      "- Consider discussing the potential biases in the dataset used for cross-validation and how they may impact the generalizability of the predictive model.\n",
      "\n",
      "--------------------------------------------------------------------------------\n",
      "\u001b[34m\n",
      "********************************************************************************\u001b[0m\n",
      "\u001b[34mStarting a new chat....\u001b[0m\n",
      "\u001b[34m\n",
      "********************************************************************************\u001b[0m\n",
      "\u001b[33mCarlos_Boyero_science_critic\u001b[0m (to Carlos_Boyero_style_editor):\n",
      "\n",
      "Review the following content. \n",
      "            \n",
      "\n",
      " Cross-validation is a technique used in machine learning to assess how well a predictive model will generalize to an independent data set. It involves partitioning the dataset into subsets, training the model on a portion of the data, and then testing it on the remaining data. This process is repeated multiple times with different partitions, and the performance metrics are averaged to provide a more accurate estimate of the model's performance. Cross-validation helps to detect overfitting and provides a more reliable evaluation of the model's ability to generalize to new, unseen data.\n",
      "Context: \n",
      "{'Reviewer': 'Carlos_Boyero_ethics_reviewer', 'Review': 'As an ethics reviewer, I would suggest the following regarding the content provided: - Ensure that any data used for cross-validation is obtained and used in compliance with data protection regulations and guidelines to protect individuals' privacy. - Clearly state the sources of the data used for cross-validation to ensure transparency and give proper credit to the original providers. - Consider discussing the potential biases in the dataset used for cross-validation and how they may impact the generalizability of the predictive model.'}\n",
      "\n",
      "--------------------------------------------------------------------------------\n"
     ]
    },
    {
     "name": "stderr",
     "output_type": "stream",
     "text": [
      "2024-08-31 00:06:10 fperez-gcloud-stupid-sailor-twift httpx[2765500] INFO HTTP Request: POST https://api.openai.com/v1/chat/completions \"HTTP/1.1 200 OK\"\n"
     ]
    },
    {
     "name": "stdout",
     "output_type": "stream",
     "text": [
      "\u001b[33mCarlos_Boyero_style_editor\u001b[0m (to Carlos_Boyero_science_critic):\n",
      "\n",
      "As an expert critic and editor, I will provide feedback on the content related to cross-validation and suggest improvements for readability and clarity.\n",
      "\n",
      "1. **Content Review**:\n",
      "   - The content explains the concept of cross-validation clearly and concisely. It effectively describes the purpose and process of cross-validation in machine learning.\n",
      "   - The content could benefit from using markdown format to distinguish the context section provided by the ethics reviewer. This will help in separating the main content from the additional information.\n",
      "\n",
      "2. **Suggestions for Improvement**:\n",
      "   - **Markdown Formatting**: Consider using markdown format to differentiate the main content from the context section provided by the ethics reviewer. For example:\n",
      "     ```markdown\n",
      "     Main Content:\n",
      "     Cross-validation is a technique used in machine learning to assess how well a predictive model will generalize to an independent data set...\n",
      "     \n",
      "     Context:\n",
      "     {'Reviewer': 'Carlos_Boyero_ethics_reviewer', 'Review': 'As an ethics reviewer, I would suggest the following regarding the content provided: - Ensure that any data used for cross-validation is obtained and used in compliance with data protection regulations and guidelines to protect individuals' privacy...\n",
      "     ```\n",
      "\n",
      "3. **Overall Assessment**:\n",
      "   - The content is informative and provides a good overview of cross-validation in machine learning.\n",
      "   - Implementing markdown formatting will enhance the readability and organization of the content, making it easier for readers to follow.\n",
      "\n",
      "By incorporating markdown formatting to distinguish between the main content and the context section, the overall presentation and clarity of the content will be improved.\n",
      "\n",
      "--------------------------------------------------------------------------------\n"
     ]
    },
    {
     "name": "stderr",
     "output_type": "stream",
     "text": [
      "2024-08-31 00:06:14 fperez-gcloud-stupid-sailor-twift httpx[2765500] INFO HTTP Request: POST https://api.openai.com/v1/chat/completions \"HTTP/1.1 200 OK\"\n"
     ]
    },
    {
     "name": "stdout",
     "output_type": "stream",
     "text": [
      "\u001b[34m\n",
      "********************************************************************************\u001b[0m\n",
      "\u001b[34mStarting a new chat....\u001b[0m\n",
      "\u001b[34m\n",
      "********************************************************************************\u001b[0m\n",
      "\u001b[33mCarlos_Boyero_science_critic\u001b[0m (to Carlos_Boyero_meta_reviewer):\n",
      "\n",
      "Aggregrate feedback from all reviewers and give final suggestions on the writing.\n",
      "Context: \n",
      "{'Reviewer': 'Carlos_Boyero_ethics_reviewer', 'Review': 'As an ethics reviewer, I would suggest the following regarding the content provided: - Ensure that any data used for cross-validation is obtained and used in compliance with data protection regulations and guidelines to protect individuals' privacy. - Clearly state the sources of the data used for cross-validation to ensure transparency and give proper credit to the original providers. - Consider discussing the potential biases in the dataset used for cross-validation and how they may impact the generalizability of the predictive model.'}\n",
      "{'Reviewer': 'Carlos_Boyero_style_editor', 'Review': 'As an expert critic and editor, I will provide feedback on the content related to cross-validation and suggest improvements for readability and clarity. 1. Content Review: - The content explains the concept of cross-validation clearly and concisely. It effectively describes the purpose and process of cross-validation in machine learning. - The content could benefit from using markdown format to distinguish the context section provided by the ethics reviewer. This will help in separating the main content from the additional information. 2. Suggestions for Improvement: - Markdown Formatting: Consider using markdown format to differentiate the main content from the context section provided by the ethics reviewer. For example: Main Content: Cross-validation is a technique used in machine learning to assess how well a predictive model will generalize to an independent data set... Context: {'Reviewer': 'Carlos_Boyero_ethics_reviewer', 'Review': 'As an ethics reviewer, I would suggest the following regarding the content provided: - Ensure that any data used for cross-validation is obtained and used in compliance with data protection regulations and guidelines to protect individuals' privacy...'} 3. Overall Assessment: - The content is informative and provides a good overview of cross-validation in machine learning. - Implementing markdown formatting will enhance the readability and organization of the content, making it easier for readers to follow. By incorporating markdown formatting to distinguish between the main content and the context section, the overall presentation and clarity of the content will be improved.'}\n",
      "\n",
      "--------------------------------------------------------------------------------\n"
     ]
    },
    {
     "name": "stderr",
     "output_type": "stream",
     "text": [
      "2024-08-31 00:06:16 fperez-gcloud-stupid-sailor-twift httpx[2765500] INFO HTTP Request: POST https://api.openai.com/v1/chat/completions \"HTTP/1.1 200 OK\"\n"
     ]
    },
    {
     "name": "stdout",
     "output_type": "stream",
     "text": [
      "\u001b[33mCarlos_Boyero_meta_reviewer\u001b[0m (to Carlos_Boyero_science_critic):\n",
      "\n",
      "### Aggregated Review Feedback:\n",
      "\n",
      "**Carlos_Boyero_ethics_reviewer:**\n",
      "- Suggested ensuring compliance with data protection regulations.\n",
      "- Recommended stating data sources for transparency.\n",
      "- Advised discussing potential biases in the dataset.\n",
      "\n",
      "**Carlos_Boyero_style_editor:**\n",
      "- Praised clear explanation of cross-validation.\n",
      "- Recommended using markdown format for better organization.\n",
      "- Highlighted the need for differentiation between main content and context.\n",
      "\n",
      "### Final Suggestions on the Writing:\n",
      "\n",
      "1. **Compliance and Transparency:** Address the suggestions from the ethics reviewer by ensuring data protection compliance, stating sources transparently, and discussing dataset biases.\n",
      "\n",
      "2. **Markdown Formatting:** Implement the style editor's advice by using markdown format to distinguish between the main content and additional context. This will enhance readability and organization.\n",
      "\n",
      "3. **Clarity and Readability:** By incorporating these suggestions, the content will not only be informative but also well-structured and easy to follow for readers.\n",
      "\n",
      "Overall, by combining the recommendations on content and style, the writing can be improved significantly in terms of clarity, transparency, and presentation.\n",
      "\n",
      "--------------------------------------------------------------------------------\n",
      "\u001b[33mCarlos_Boyero_science_critic\u001b[0m (to La_Parras_generic_teacher):\n",
      "\n",
      "### Aggregated Review Feedback:\n",
      "\n",
      "**Carlos_Boyero_ethics_reviewer:**\n",
      "- Suggested ensuring compliance with data protection regulations.\n",
      "- Recommended stating data sources for transparency.\n",
      "- Advised discussing potential biases in the dataset.\n",
      "\n",
      "**Carlos_Boyero_style_editor:**\n",
      "- Praised clear explanation of cross-validation.\n",
      "- Recommended using markdown format for better organization.\n",
      "- Highlighted the need for differentiation between main content and context.\n",
      "\n",
      "### Final Suggestions on the Writing:\n",
      "\n",
      "1. **Compliance and Transparency:** Address the suggestions from the ethics reviewer by ensuring data protection compliance, stating sources transparently, and discussing dataset biases.\n",
      "\n",
      "2. **Markdown Formatting:** Implement the style editor's advice by using markdown format to distinguish between the main content and additional context. This will enhance readability and organization.\n",
      "\n",
      "3. **Clarity and Readability:** By incorporating these suggestions, the content will not only be informative but also well-structured and easy to follow for readers.\n",
      "\n",
      "Overall, by combining the recommendations on content and style, the writing can be improved significantly in terms of clarity, transparency, and presentation.\n",
      "\n",
      "--------------------------------------------------------------------------------\n"
     ]
    },
    {
     "name": "stderr",
     "output_type": "stream",
     "text": [
      "2024-08-31 00:06:18 fperez-gcloud-stupid-sailor-twift httpx[2765500] INFO HTTP Request: POST https://api.openai.com/v1/chat/completions \"HTTP/1.1 200 OK\"\n"
     ]
    },
    {
     "name": "stdout",
     "output_type": "stream",
     "text": [
      "\u001b[33mLa_Parras_generic_teacher\u001b[0m (to Carlos_Boyero_science_critic):\n",
      "\n",
      "Cross-validation is a technique used in machine learning to assess how well a predictive model will generalize to an independent data set. It involves partitioning the dataset into subsets, training the model on a portion of the data, and then testing it on the remaining data. This process is repeated multiple times with different partitions, and the performance metrics are averaged to provide a more accurate estimate of the model's performance. \n",
      "\n",
      "Cross-validation helps to detect overfitting and provides a more reliable evaluation of the model's ability to generalize to new, unseen data.\n",
      "\n",
      "To enhance the content further, it is important to ensure compliance with data protection regulations, transparently state data sources, and discuss potential biases in the dataset. By incorporating markdown formatting to distinguish between the main content and additional context, the explanation of cross-validation can be more organized and visually appealing.\n",
      "\n",
      "--------------------------------------------------------------------------------\n"
     ]
    }
   ],
   "source": [
    "res = science_critic.initiate_chat(\n",
    "    recipient=maestro_teacher,\n",
    "    message=task,\n",
    "    max_turns=2,\n",
    "    summary_method=\"last_msg\"\n",
    ")"
   ]
  },
  {
   "cell_type": "code",
   "execution_count": 13,
   "metadata": {},
   "outputs": [
    {
     "name": "stdout",
     "output_type": "stream",
     "text": [
      "Cross-validation is a technique used in machine learning to assess how well a predictive model will generalize to an independent data set. It involves partitioning the dataset into subsets, training the model on a portion of the data, and then testing it on the remaining data. This process is repeated multiple times with different partitions, and the performance metrics are averaged to provide a more accurate estimate of the model's performance. \n",
      "\n",
      "Cross-validation helps to detect overfitting and provides a more reliable evaluation of the model's ability to generalize to new, unseen data.\n",
      "\n",
      "To enhance the content further, it is important to ensure compliance with data protection regulations, transparently state data sources, and discuss potential biases in the dataset. By incorporating markdown formatting to distinguish between the main content and additional context, the explanation of cross-validation can be more organized and visually appealing.\n"
     ]
    }
   ],
   "source": [
    "print(res.summary)"
   ]
  },
  {
   "cell_type": "code",
   "execution_count": 14,
   "metadata": {},
   "outputs": [
    {
     "ename": "TypeError",
     "evalue": "'ChatResult' object is not iterable",
     "output_type": "error",
     "traceback": [
      "\u001b[0;31m---------------------------------------------------------------------------\u001b[0m",
      "\u001b[0;31mTypeError\u001b[0m                                 Traceback (most recent call last)",
      "Cell \u001b[0;32mIn[14], line 1\u001b[0m\n\u001b[0;32m----> 1\u001b[0m \u001b[38;5;28;01mfor\u001b[39;00m chat_result \u001b[38;5;129;01min\u001b[39;00m res:\n\u001b[1;32m      2\u001b[0m     \u001b[38;5;28mprint\u001b[39m(chat_result\u001b[38;5;241m.\u001b[39msummary)\n\u001b[1;32m      3\u001b[0m     \u001b[38;5;28mprint\u001b[39m(\u001b[38;5;124m\"\u001b[39m\u001b[38;5;130;01m\\n\u001b[39;00m\u001b[38;5;124m\"\u001b[39m)\n",
      "\u001b[0;31mTypeError\u001b[0m: 'ChatResult' object is not iterable"
     ]
    }
   ],
   "source": [
    "for chat_result in res:\n",
    "    print(chat_result.summary)\n",
    "    print(\"\\n\")"
   ]
  },
  {
   "cell_type": "code",
   "execution_count": null,
   "metadata": {},
   "outputs": [],
   "source": [
    "for chat_result in chat_results:\n",
    "    print(chat_result.cost)\n",
    "    print(\"\\n\")"
   ]
  }
 ],
 "metadata": {
  "kernelspec": {
   "display_name": "funes-pixi",
   "language": "python",
   "name": "python3"
  },
  "language_info": {
   "codemirror_mode": {
    "name": "ipython",
    "version": 3
   },
   "file_extension": ".py",
   "mimetype": "text/x-python",
   "name": "python",
   "nbconvert_exporter": "python",
   "pygments_lexer": "ipython3",
   "version": "3.10.14"
  }
 },
 "nbformat": 4,
 "nbformat_minor": 2
}
