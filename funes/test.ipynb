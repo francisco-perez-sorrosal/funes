{
 "cells": [
  {
   "cell_type": "code",
   "execution_count": 2,
   "metadata": {},
   "outputs": [
    {
     "name": "stderr",
     "output_type": "stream",
     "text": [
      "/opt/conda/envs/funes-pixi/lib/python3.12/site-packages/tqdm/auto.py:21: TqdmWarning: IProgress not found. Please update jupyter and ipywidgets. See https://ipywidgets.readthedocs.io/en/stable/user_install.html\n",
      "  from .autonotebook import tqdm as notebook_tqdm\n"
     ]
    }
   ],
   "source": [
    "import dspy\n",
    "from dspy.evaluate import Evaluate\n",
    "from dspy.datasets.hotpotqa import HotPotQA\n",
    "from dspy.teleprompt import BootstrapFewShotWithRandomSearch\n",
    "\n",
    "# Set up llama3 with a VLLM client, served on four GPUs. Please note that these URLs will not work for you; you'd need to refer to the documentation to set up your own VLLM/SGLANG server(s).\n",
    "model=\"llama3\"\n",
    "lm = dspy.OllamaLocal(model=model, max_tokens=500)\n",
    "colbert = dspy.ColBERTv2(url='http://20.102.90.50:2017/wiki17_abstracts')\n",
    "dspy.configure(lm=lm, rm=colbert)"
   ]
  },
  {
   "cell_type": "code",
   "execution_count": 3,
   "metadata": {},
   "outputs": [
    {
     "name": "stderr",
     "output_type": "stream",
     "text": [
      "/opt/conda/envs/funes-pixi/lib/python3.12/site-packages/datasets/table.py:1421: FutureWarning: promote has been superseded by promote_options='default'.\n",
      "  table = cls._concat_blocks(blocks, axis=0)\n"
     ]
    },
    {
     "name": "stdout",
     "output_type": "stream",
     "text": [
      "Q: Are both Cangzhou and Qionghai in the Hebei province of China?\n",
      "A: no\n"
     ]
    }
   ],
   "source": [
    "# Load data\n",
    "#train_size=200, dev_size=300\n",
    "train_size=200\n",
    "dev_size=11\n",
    "dataset = HotPotQA(train_seed=1, train_size=train_size, eval_seed=2023, dev_size=dev_size, test_size=0)\n",
    "trainset = [x.with_inputs('question') for x in dataset.train[0:150]]\n",
    "valset = [x.with_inputs('question') for x in dataset.train[150:200]]\n",
    "devset = [x.with_inputs('question') for x in dataset.dev[0:10]]\n",
    "\n",
    "# show an example datapoint; it's just a question-answer pair\n",
    "trainset[0]\n"
   ]
  },
  {
   "cell_type": "code",
   "execution_count": 4,
   "metadata": {},
   "outputs": [
    {
     "name": "stdout",
     "output_type": "stream",
     "text": [
      "Q: What year did the mountain known in Italian as \"Monte Vesuvio\", erupt?\n",
      "A: 79 AD\n"
     ]
    }
   ],
   "source": [
    "\n",
    "# Question\n",
    "question=dataset.dev[10]['question']\n",
    "answer=dataset.dev[10]['answer']\n",
    "print(f\"Q: {question}\\nA: {answer}\")\n"
   ]
  },
  {
   "cell_type": "code",
   "execution_count": 8,
   "metadata": {},
   "outputs": [
    {
     "data": {
      "text/plain": [
       "[Example({'question': 'Are both Cangzhou and Qionghai in the Hebei province of China?', 'answer': 'no', 'gold_titles': {'Cangzhou', 'Qionghai'}}) (input_keys={'question'}),\n",
       " Example({'question': 'Who conducts the draft in which Marc-Andre Fleury was drafted to the Vegas Golden Knights for the 2017-18 season?', 'answer': 'National Hockey League', 'gold_titles': {'2017–18 Pittsburgh Penguins season', '2017 NHL Expansion Draft'}}) (input_keys={'question'}),\n",
       " Example({'question': 'The Wings entered a new era, following the retirement of which Canadian retired professional ice hockey player and current general manager of the Tampa Bay Lightning of the National Hockey League (NHL)?', 'answer': 'Steve Yzerman', 'gold_titles': {'2006–07 Detroit Red Wings season', 'Steve Yzerman'}}) (input_keys={'question'}),\n",
       " Example({'question': 'What river is near the Crichton Collegiate Church?', 'answer': 'the River Tyne', 'gold_titles': {'Crichton Castle', 'Crichton Collegiate Church'}}) (input_keys={'question'}),\n",
       " Example({'question': 'In the 10th Century A.D. Ealhswith had a son called Æthelweard by which English king?', 'answer': 'King Alfred the Great', 'gold_titles': {'Ealhswith', 'Æthelweard (son of Alfred)'}}) (input_keys={'question'}),\n",
       " Example({'question': 'The Newark Airport Exchange is at the northern edge of an airport that is operated by whom?', 'answer': 'Port Authority of New York and New Jersey', 'gold_titles': {'Newark Liberty International Airport', 'Newark Airport Interchange'}}) (input_keys={'question'}),\n",
       " Example({'question': 'Where did an event take place resulting in a win during a domestic double due to the action of a Peruvian footballer known for his goal scoring ability?', 'answer': 'Bundesliga', 'gold_titles': {'Claudio Pizarro', '2005–06 FC Bayern Munich season'}}) (input_keys={'question'}),\n",
       " Example({'question': 'Are both Chico Municipal Airport and William R. Fairchild International Airport in California?', 'answer': 'no', 'gold_titles': {'William R. Fairchild International Airport', 'Chico Municipal Airport'}}) (input_keys={'question'}),\n",
       " Example({'question': 'In which Maine county is Fort Pownall located?', 'answer': 'Waldo County, Maine', 'gold_titles': {'Fort Pownall', 'Stockton Springs, Maine'}}) (input_keys={'question'}),\n",
       " Example({'question': 'Which 90s rock band has more recently reformed, Gene or The Afghan Whigs?', 'answer': 'The Afghan Whigs', 'gold_titles': {'Gene (band)', 'The Afghan Whigs'}}) (input_keys={'question'})]"
      ]
     },
     "execution_count": 8,
     "metadata": {},
     "output_type": "execute_result"
    }
   ],
   "source": [
    "devset"
   ]
  },
  {
   "cell_type": "code",
   "execution_count": 5,
   "metadata": {},
   "outputs": [],
   "source": [
    "agent = dspy.ReAct(\"question -> answer\", tools=[dspy.Retrieve(k=1)])"
   ]
  },
  {
   "cell_type": "code",
   "execution_count": null,
   "metadata": {},
   "outputs": [],
   "source": [
    "config = dict(num_threads=8, display_progress=True, display_table=5)\n",
    "evaluate = Evaluate(devset=devset, metric=dspy.evaluate.answer_exact_match, **config)\n",
    "\n",
    "evaluate(agent)"
   ]
  },
  {
   "cell_type": "code",
   "execution_count": null,
   "metadata": {},
   "outputs": [],
   "source": [
    "lm.inspect_history(n=10)"
   ]
  },
  {
   "cell_type": "code",
   "execution_count": 7,
   "metadata": {},
   "outputs": [
    {
     "name": "stderr",
     "output_type": "stream",
     "text": [
      "  0%|          | 0/50 [00:00<?, ?it/s]"
     ]
    },
    {
     "name": "stderr",
     "output_type": "stream",
     "text": [
      "\u001b[2m2024-06-05T16:05:32.199127Z\u001b[0m [\u001b[31m\u001b[1merror    \u001b[0m] \u001b[1mError for example in dev set: \t\t HTTPConnectionPool(host='localhost', port=11434): Read timed out. (read timeout=120)\u001b[0m [\u001b[0m\u001b[1m\u001b[34mdspy.evaluate.evaluate\u001b[0m]\u001b[0m \u001b[36mfilename\u001b[0m=\u001b[35mevaluate.py\u001b[0m \u001b[36mlineno\u001b[0m=\u001b[35m147\u001b[0m\n",
      "\u001b[2m2024-06-05T16:05:40.822703Z\u001b[0m [\u001b[31m\u001b[1merror    \u001b[0m] \u001b[1mError for example in dev set: \t\t HTTPConnectionPool(host='localhost', port=11434): Read timed out. (read timeout=120)\u001b[0m [\u001b[0m\u001b[1m\u001b[34mdspy.evaluate.evaluate\u001b[0m]\u001b[0m \u001b[36mfilename\u001b[0m=\u001b[35mevaluate.py\u001b[0m \u001b[36mlineno\u001b[0m=\u001b[35m147\u001b[0m\n"
     ]
    },
    {
     "name": "stderr",
     "output_type": "stream",
     "text": [
      "Average Metric: 0 / 1  (0.0):   2%|▏         | 1/50 [04:01<3:17:24, 241.72s/it]\u001b[2m2024-06-05T16:06:48.782813Z\u001b[0m [\u001b[31m\u001b[1merror    \u001b[0m] \u001b[1mError for example in dev set: \t\t HTTPConnectionPool(host='localhost', port=11434): Read timed out. (read timeout=120)\u001b[0m [\u001b[0m\u001b[1m\u001b[34mdspy.evaluate.evaluate\u001b[0m]\u001b[0m \u001b[36mfilename\u001b[0m=\u001b[35mevaluate.py\u001b[0m \u001b[36mlineno\u001b[0m=\u001b[35m147\u001b[0m\n",
      "Average Metric: 0.0 / 2  (0.0):   4%|▍         | 2/50 [04:30<1:33:22, 116.73s/it]\u001b[2m2024-06-05T16:06:53.610706Z\u001b[0m [\u001b[31m\u001b[1merror    \u001b[0m] \u001b[1mError for example in dev set: \t\t HTTPConnectionPool(host='localhost', port=11434): Read timed out. (read timeout=120)\u001b[0m [\u001b[0m\u001b[1m\u001b[34mdspy.evaluate.evaluate\u001b[0m]\u001b[0m \u001b[36mfilename\u001b[0m=\u001b[35mevaluate.py\u001b[0m \u001b[36mlineno\u001b[0m=\u001b[35m147\u001b[0m\n",
      "Average Metric: 7.0 / 50  (14.0): 100%|██████████| 50/50 [23:12<00:00, 27.84s/it]\n",
      "Average Metric: 7 / 50  (14.0): 100%|██████████| 50/50 [20:10<00:00, 24.22s/it]\n",
      " 14%|█▍        | 21/150 [08:09<50:06, 23.31s/it]  \n",
      "Average Metric: 2 / 50  (4.0): 100%|██████████| 50/50 [27:12<00:00, 32.65s/it] \n",
      "  3%|▎         | 5/150 [01:47<51:46, 21.42s/it]  \n",
      "Average Metric: 3 / 50  (6.0): 100%|██████████| 50/50 [16:33<00:00, 19.88s/it] \n",
      "  5%|▌         | 8/150 [03:53<1:09:06, 29.20s/it]\n",
      "Average Metric: 9 / 50  (18.0): 100%|██████████| 50/50 [19:08<00:00, 22.98s/it]\n",
      "  5%|▌         | 8/150 [02:50<50:18, 21.26s/it]  \n",
      "Average Metric: 5 / 50  (10.0): 100%|██████████| 50/50 [17:46<00:00, 21.34s/it]\n",
      "  1%|          | 1/150 [00:16<40:53, 16.46s/it]\n",
      "Average Metric: 4 / 21  (19.0):  42%|████▏     | 21/50 [09:08<07:17, 15.09s/it]"
     ]
    }
   ],
   "source": [
    "config = dict(max_bootstrapped_demos=2, max_labeled_demos=0, num_candidate_programs=5, num_threads=8)\n",
    "tp = BootstrapFewShotWithRandomSearch(metric=dspy.evaluate.answer_exact_match, **config)\n",
    "optimized_react = tp.compile(agent, trainset=trainset, valset=valset)"
   ]
  },
  {
   "cell_type": "code",
   "execution_count": null,
   "metadata": {},
   "outputs": [],
   "source": [
    "optimized_react.save(\"optimized_react.json\")"
   ]
  },
  {
   "cell_type": "code",
   "execution_count": null,
   "metadata": {},
   "outputs": [],
   "source": [
    "loaded_optimized_react = dspy.ReAct(\"question -> answer\", tools=[dspy.Retrieve(k=1)])\n",
    "loaded_optimized_react.load(\"file.json\")"
   ]
  }
 ],
 "metadata": {
  "kernelspec": {
   "display_name": "funes-pixi",
   "language": "python",
   "name": "python3"
  },
  "language_info": {
   "codemirror_mode": {
    "name": "ipython",
    "version": 3
   },
   "file_extension": ".py",
   "mimetype": "text/x-python",
   "name": "python",
   "nbconvert_exporter": "python",
   "pygments_lexer": "ipython3",
   "version": "3.12.3"
  }
 },
 "nbformat": 4,
 "nbformat_minor": 2
}
