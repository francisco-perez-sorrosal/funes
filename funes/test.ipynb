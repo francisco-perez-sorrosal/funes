{
 "cells": [
  {
   "cell_type": "code",
   "execution_count": 2,
   "metadata": {},
   "outputs": [
    {
     "name": "stderr",
     "output_type": "stream",
     "text": [
      "/opt/conda/envs/funes-pixi/lib/python3.10/site-packages/tqdm/auto.py:21: TqdmWarning: IProgress not found. Please update jupyter and ipywidgets. See https://ipywidgets.readthedocs.io/en/stable/user_install.html\n",
      "  from .autonotebook import tqdm as notebook_tqdm\n"
     ]
    }
   ],
   "source": [
    "from lang_utils import *\n",
    "from dspy.evaluate import Evaluate\n",
    "from dspy.datasets.hotpotqa import HotPotQA\n",
    "from dspy.teleprompt import BootstrapFewShotWithRandomSearch"
   ]
  },
  {
   "cell_type": "code",
   "execution_count": 3,
   "metadata": {},
   "outputs": [
    {
     "name": "stderr",
     "output_type": "stream",
     "text": [
      "2024-06-13 18:00:32.558 \n",
      "  \u001b[33m\u001b[1mWarning:\u001b[0m to view this Streamlit app on a browser, run it with the following\n",
      "  command:\n",
      "\n",
      "    streamlit run /opt/conda/envs/funes-pixi/lib/python3.10/site-packages/ipykernel_launcher.py [ARGUMENTS]\n"
     ]
    }
   ],
   "source": [
    "lm = get_llm(\"llama3\", \"TGI\")\n"
   ]
  },
  {
   "cell_type": "code",
   "execution_count": 4,
   "metadata": {},
   "outputs": [
    {
     "data": {
      "text/plain": [
       "Example({'question': 'Which is the region whose capital is Zaragoza?', 'answer': 'Aragon'}) (input_keys=None)"
      ]
     },
     "execution_count": 4,
     "metadata": {},
     "output_type": "execute_result"
    }
   ],
   "source": [
    "example_qa = dspy.Example(question=\"Which is the region whose capital is Zaragoza?\", answer= \"Aragon\") #.with_inputs(\"question\")\n",
    "\n",
    "# input_key_only = article_summary.inputs()\n",
    "# non_input_key_only = article_summary.labels()\n",
    "example_qa\n"
   ]
  },
  {
   "cell_type": "code",
   "execution_count": null,
   "metadata": {},
   "outputs": [],
   "source": [
    "print(\"Example object with Input fields only:\", input_key_only)\n",
    "print(\"Example object with Non-Input fields only:\", non_input_key_only)"
   ]
  },
  {
   "cell_type": "code",
   "execution_count": null,
   "metadata": {},
   "outputs": [],
   "source": [
    "class BasicQA(dspy.Signature):\n",
    "    \"\"\"Answer questions with short factoid answers.\"\"\"\n",
    "\n",
    "    question = dspy.InputField()\n",
    "    answer = dspy.OutputField(desc=\"often between 1 and 5 words\")\n",
    "\n",
    "# Define the predictor.\n",
    "predictor = dspy.Predict(BasicQA)\n",
    "\n",
    "# Call the predictor on a particular input.\n",
    "pred = predictor(question=example_qa.question)\n",
    "\n",
    "# Print the input and the prediction.\n",
    "print(f\"Question: {example_qa.question}\")\n",
    "print(f\"Predicted Answer: {pred.answer}\")\n",
    "print(f\"Actual Answer: {example_qa.answer}\")"
   ]
  },
  {
   "cell_type": "code",
   "execution_count": null,
   "metadata": {},
   "outputs": [],
   "source": [
    "len(lm.history)"
   ]
  },
  {
   "cell_type": "code",
   "execution_count": null,
   "metadata": {},
   "outputs": [],
   "source": [
    "lm.inspect_history(n=1)"
   ]
  },
  {
   "cell_type": "code",
   "execution_count": 5,
   "metadata": {},
   "outputs": [],
   "source": [
    "colbert = dspy.ColBERTv2(url='http://20.102.90.50:2017/wiki17_abstracts')\n",
    "dspy.configure(lm=lm, rm=colbert)"
   ]
  },
  {
   "cell_type": "code",
   "execution_count": 8,
   "metadata": {},
   "outputs": [
    {
     "name": "stderr",
     "output_type": "stream",
     "text": [
      "/opt/conda/envs/funes-pixi/lib/python3.10/site-packages/datasets/table.py:1421: FutureWarning: promote has been superseded by promote_options='default'.\n",
      "  table = cls._concat_blocks(blocks, axis=0)\n"
     ]
    },
    {
     "name": "stdout",
     "output_type": "stream",
     "text": [
      "<dspy.datasets.hotpotqa.HotPotQA object at 0x7f33658dfb80>\n"
     ]
    }
   ],
   "source": [
    "# Load data\n",
    "#train_size=200, dev_size=300\n",
    "train_size=200\n",
    "dev_size=200\n",
    "test_size=300\n",
    "dataset = HotPotQA(train_seed=1, train_size=train_size, eval_seed=2023, dev_size=dev_size, test_size=0)\n",
    "print(dataset)\n"
   ]
  },
  {
   "cell_type": "code",
   "execution_count": 7,
   "metadata": {},
   "outputs": [
    {
     "data": {
      "text/plain": [
       "0"
      ]
     },
     "execution_count": 7,
     "metadata": {},
     "output_type": "execute_result"
    }
   ],
   "source": [
    "len(dataset.test)"
   ]
  },
  {
   "cell_type": "code",
   "execution_count": null,
   "metadata": {},
   "outputs": [],
   "source": [
    "\n",
    "# trainset = [x.with_inputs('question') for x in dataset.train[0:150]]\n",
    "# valset = [x.with_inputs('question') for x in dataset.train[150:200]]\n",
    "# devset = [x.with_inputs('question') for x in dataset.dev[0:10]]\n",
    "\n",
    "# # show an example datapoint; it's just a question-answer pair\n",
    "# trainset[0]\n"
   ]
  },
  {
   "cell_type": "code",
   "execution_count": 7,
   "metadata": {},
   "outputs": [
    {
     "name": "stdout",
     "output_type": "stream",
     "text": [
      "Q: What year did the mountain known in Italian as \"Monte Vesuvio\", erupt?\n",
      "A: 79 AD\n"
     ]
    }
   ],
   "source": [
    "# Question\n",
    "question=dataset.dev[10]['question']\n",
    "answer=dataset.dev[10]['answer']\n",
    "print(f\"Q: {question}\\nA: {answer}\")"
   ]
  },
  {
   "cell_type": "code",
   "execution_count": null,
   "metadata": {},
   "outputs": [],
   "source": [
    "devset"
   ]
  },
  {
   "cell_type": "code",
   "execution_count": 8,
   "metadata": {},
   "outputs": [],
   "source": [
    "agent = dspy.ReAct(\"question -> answer\", tools=[dspy.Retrieve(k=1)])"
   ]
  },
  {
   "cell_type": "code",
   "execution_count": 9,
   "metadata": {},
   "outputs": [
    {
     "name": "stderr",
     "output_type": "stream",
     "text": [
      "Average Metric: 1 / 10  (10.0): 100%|██████████| 10/10 [00:13<00:00,  1.37s/it]\n"
     ]
    },
    {
     "data": {
      "text/html": [
       "<style type=\"text/css\">\n",
       "#T_6f268 th {\n",
       "  text-align: left;\n",
       "}\n",
       "#T_6f268 td {\n",
       "  text-align: left;\n",
       "}\n",
       "#T_6f268_row0_col0, #T_6f268_row0_col1, #T_6f268_row0_col2, #T_6f268_row0_col3, #T_6f268_row0_col4, #T_6f268_row0_col5, #T_6f268_row1_col0, #T_6f268_row1_col1, #T_6f268_row1_col2, #T_6f268_row1_col3, #T_6f268_row1_col4, #T_6f268_row1_col5, #T_6f268_row2_col0, #T_6f268_row2_col1, #T_6f268_row2_col2, #T_6f268_row2_col3, #T_6f268_row2_col4, #T_6f268_row2_col5, #T_6f268_row3_col0, #T_6f268_row3_col1, #T_6f268_row3_col2, #T_6f268_row3_col3, #T_6f268_row3_col4, #T_6f268_row3_col5, #T_6f268_row4_col0, #T_6f268_row4_col1, #T_6f268_row4_col2, #T_6f268_row4_col3, #T_6f268_row4_col4, #T_6f268_row4_col5 {\n",
       "  text-align: left;\n",
       "  white-space: pre-wrap;\n",
       "  word-wrap: break-word;\n",
       "  max-width: 400px;\n",
       "}\n",
       "</style>\n",
       "<table id=\"T_6f268\">\n",
       "  <thead>\n",
       "    <tr>\n",
       "      <th class=\"blank level0\" >&nbsp;</th>\n",
       "      <th id=\"T_6f268_level0_col0\" class=\"col_heading level0 col0\" >question</th>\n",
       "      <th id=\"T_6f268_level0_col1\" class=\"col_heading level0 col1\" >example_answer</th>\n",
       "      <th id=\"T_6f268_level0_col2\" class=\"col_heading level0 col2\" >gold_titles</th>\n",
       "      <th id=\"T_6f268_level0_col3\" class=\"col_heading level0 col3\" >observations</th>\n",
       "      <th id=\"T_6f268_level0_col4\" class=\"col_heading level0 col4\" >pred_answer</th>\n",
       "      <th id=\"T_6f268_level0_col5\" class=\"col_heading level0 col5\" >answer_exact_match</th>\n",
       "    </tr>\n",
       "  </thead>\n",
       "  <tbody>\n",
       "    <tr>\n",
       "      <th id=\"T_6f268_level0_row0\" class=\"row_heading level0 row0\" >0</th>\n",
       "      <td id=\"T_6f268_row0_col0\" class=\"data row0 col0\" >Are both Cangzhou and Qionghai in the Hebei province of China?</td>\n",
       "      <td id=\"T_6f268_row0_col1\" class=\"data row0 col1\" >no</td>\n",
       "      <td id=\"T_6f268_row0_col2\" class=\"data row0 col2\" >{'Qionghai', 'Cangzhou'}</td>\n",
       "      <td id=\"T_6f268_row0_col3\" class=\"data row0 col3\" >[['Hebei | Hebei (; postal: Hopeh) is a province of China in the North China region. Its one-character abbreviation is \"冀 \" (Jì), named after...</td>\n",
       "      <td id=\"T_6f268_row0_col4\" class=\"data row0 col4\" >No, Cangzhou is in Hebei province, but Qionghai is in Hainan province</td>\n",
       "      <td id=\"T_6f268_row0_col5\" class=\"data row0 col5\" >False</td>\n",
       "    </tr>\n",
       "    <tr>\n",
       "      <th id=\"T_6f268_level0_row1\" class=\"row_heading level0 row1\" >1</th>\n",
       "      <td id=\"T_6f268_row1_col0\" class=\"data row1 col0\" >Who conducts the draft in which Marc-Andre Fleury was drafted to the Vegas Golden Knights for the 2017-18 season?</td>\n",
       "      <td id=\"T_6f268_row1_col1\" class=\"data row1 col1\" >National Hockey League</td>\n",
       "      <td id=\"T_6f268_row1_col2\" class=\"data row1 col2\" >{'2017–18 Pittsburgh Penguins season', '2017 NHL Expansion Draft'}</td>\n",
       "      <td id=\"T_6f268_row1_col3\" class=\"data row1 col3\" >[['Query (complexity) | In descriptive complexity, a query is a mapping from structures of one signature to structures of another vocabulary. Neil Immerman, in his...</td>\n",
       "      <td id=\"T_6f268_row1_col4\" class=\"data row1 col4\" >answer</td>\n",
       "      <td id=\"T_6f268_row1_col5\" class=\"data row1 col5\" >False</td>\n",
       "    </tr>\n",
       "    <tr>\n",
       "      <th id=\"T_6f268_level0_row2\" class=\"row_heading level0 row2\" >2</th>\n",
       "      <td id=\"T_6f268_row2_col0\" class=\"data row2 col0\" >The Wings entered a new era, following the retirement of which Canadian retired professional ice hockey player and current general manager of the Tampa Bay...</td>\n",
       "      <td id=\"T_6f268_row2_col1\" class=\"data row2 col1\" >Steve Yzerman</td>\n",
       "      <td id=\"T_6f268_row2_col2\" class=\"data row2 col2\" >{'2006–07 Detroit Red Wings season', 'Steve Yzerman'}</td>\n",
       "      <td id=\"T_6f268_row2_col3\" class=\"data row2 col3\" >[['Query (complexity) | In descriptive complexity, a query is a mapping from structures of one signature to structures of another vocabulary. Neil Immerman, in his...</td>\n",
       "      <td id=\"T_6f268_row2_col4\" class=\"data row2 col4\" ></td>\n",
       "      <td id=\"T_6f268_row2_col5\" class=\"data row2 col5\" >False</td>\n",
       "    </tr>\n",
       "    <tr>\n",
       "      <th id=\"T_6f268_level0_row3\" class=\"row_heading level0 row3\" >3</th>\n",
       "      <td id=\"T_6f268_row3_col0\" class=\"data row3 col0\" >What river is near the Crichton Collegiate Church?</td>\n",
       "      <td id=\"T_6f268_row3_col1\" class=\"data row3 col1\" >the River Tyne</td>\n",
       "      <td id=\"T_6f268_row3_col2\" class=\"data row3 col2\" >{'Crichton Castle', 'Crichton Collegiate Church'}</td>\n",
       "      <td id=\"T_6f268_row3_col3\" class=\"data row3 col3\" >[['Query (complexity) | In descriptive complexity, a query is a mapping from structures of one signature to structures of another vocabulary. Neil Immerman, in his...</td>\n",
       "      <td id=\"T_6f268_row3_col4\" class=\"data row3 col4\" >answer</td>\n",
       "      <td id=\"T_6f268_row3_col5\" class=\"data row3 col5\" >False</td>\n",
       "    </tr>\n",
       "    <tr>\n",
       "      <th id=\"T_6f268_level0_row4\" class=\"row_heading level0 row4\" >4</th>\n",
       "      <td id=\"T_6f268_row4_col0\" class=\"data row4 col0\" >In the 10th Century A.D. Ealhswith had a son called Æthelweard by which English king?</td>\n",
       "      <td id=\"T_6f268_row4_col1\" class=\"data row4 col1\" >King Alfred the Great</td>\n",
       "      <td id=\"T_6f268_row4_col2\" class=\"data row4 col2\" >{'Ealhswith', 'Æthelweard (son of Alfred)'}</td>\n",
       "      <td id=\"T_6f268_row4_col3\" class=\"data row4 col3\" >[['Æthelweard | Æthelweard (also Ethelweard, Aethelweard, Athelweard, et cetera) is an Anglo-Saxon male name. It might refer to:'], ['Ealhswith | Ealhswith or Ealswitha (died 5...</td>\n",
       "      <td id=\"T_6f268_row4_col4\" class=\"data row4 col4\" >“King Alfred the Great”</td>\n",
       "      <td id=\"T_6f268_row4_col5\" class=\"data row4 col5\" >False</td>\n",
       "    </tr>\n",
       "  </tbody>\n",
       "</table>\n"
      ],
      "text/plain": [
       "<pandas.io.formats.style.Styler at 0x7fd1ebbf9a80>"
      ]
     },
     "metadata": {},
     "output_type": "display_data"
    },
    {
     "data": {
      "text/html": [
       "\n",
       "                <div style='\n",
       "                    text-align: center;\n",
       "                    font-size: 16px;\n",
       "                    font-weight: bold;\n",
       "                    color: #555;\n",
       "                    margin: 10px 0;'>\n",
       "                    ... 5 more rows not displayed ...\n",
       "                </div>\n",
       "                "
      ],
      "text/plain": [
       "<IPython.core.display.HTML object>"
      ]
     },
     "metadata": {},
     "output_type": "display_data"
    },
    {
     "data": {
      "text/plain": [
       "10.0"
      ]
     },
     "execution_count": 9,
     "metadata": {},
     "output_type": "execute_result"
    }
   ],
   "source": [
    "config = dict(num_threads=8, display_progress=True, display_table=5)\n",
    "evaluate = Evaluate(devset=devset, metric=dspy.evaluate.answer_exact_match, **config)\n",
    "\n",
    "evaluate(agent)"
   ]
  },
  {
   "cell_type": "code",
   "execution_count": null,
   "metadata": {},
   "outputs": [],
   "source": [
    "lm.inspect_history(n=10)"
   ]
  },
  {
   "cell_type": "code",
   "execution_count": null,
   "metadata": {},
   "outputs": [],
   "source": [
    "config = dict(max_bootstrapped_demos=2, max_labeled_demos=0, num_candidate_programs=5, num_threads=8)\n",
    "tp = BootstrapFewShotWithRandomSearch(metric=dspy.evaluate.answer_exact_match, **config)\n",
    "optimized_react = tp.compile(agent, trainset=trainset, valset=valset)"
   ]
  },
  {
   "cell_type": "code",
   "execution_count": null,
   "metadata": {},
   "outputs": [],
   "source": [
    "optimized_react.save(\"optimized_react.json\")"
   ]
  },
  {
   "cell_type": "code",
   "execution_count": null,
   "metadata": {},
   "outputs": [],
   "source": [
    "loaded_optimized_react = dspy.ReAct(\"question -> answer\", tools=[dspy.Retrieve(k=1)])\n",
    "loaded_optimized_react.load(\"file.json\")"
   ]
  }
 ],
 "metadata": {
  "kernelspec": {
   "display_name": "funes-pixi",
   "language": "python",
   "name": "python3"
  },
  "language_info": {
   "codemirror_mode": {
    "name": "ipython",
    "version": 3
   },
   "file_extension": ".py",
   "mimetype": "text/x-python",
   "name": "python",
   "nbconvert_exporter": "python",
   "pygments_lexer": "ipython3",
   "version": "3.10.14"
  }
 },
 "nbformat": 4,
 "nbformat_minor": 2
}
